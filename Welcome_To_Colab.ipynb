{
  "cells": [
    {
      "cell_type": "markdown",
      "metadata": {
        "id": "view-in-github",
        "colab_type": "text"
      },
      "source": [
        "<a href=\"https://colab.research.google.com/github/asbdu34023053400500112009/Digital-portfolio/blob/main/Welcome_To_Colab.ipynb\" target=\"_parent\"><img src=\"https://colab.research.google.com/assets/colab-badge.svg\" alt=\"Open In Colab\"/></a>"
      ]
    },
    {
      "cell_type": "code",
      "source": [
        "import gradio as gr\n",
        "import torch\n",
        "from transformers import Autotokenizer, AutomodelforcausalLM\n",
        "MODEL_NAME=\"ibm-granite/granite-3.2-2b-instruct\"\n",
        "tokenizer=AutoTokenizer.from_pretrained(model_name)\n",
        "model=AutomodelforcausalLM.from_pretrained(\n",
        "    model_name,\n",
        "    tourch_dype = torch.float16 if torch.float.cuda.is_available() else torch.float32,\n",
        "    devie_map=\"auto\" if torch.cuda.is_available()else None\n",
        ")\n",
        "if tokenizer.pad_token is None:\n",
        " tonkenizer.pad_token = tonkenizer.eos_token\n",
        " def generate_response(prompt,max_length=512):\n",
        "  inputs = tokenizer(prompt, return_tensor=\"pt\",trunction=yrue, max_length=512)\n",
        "  if torch.cuda.is_available():\n",
        "    inputs = {k: v.to(model.device)for k,v in input.items()}\n",
        "    with torch.no_grad():\n",
        "      outputs = model.generate(\n",
        "          **inputs,\n",
        "          max_length=max_length,\n",
        "          temperature = 0.7,\n",
        "          do_sample = True,\n",
        "        pad_token-id = tokenizer.eos_token_id\n",
        "      )\n",
        "      response = tokenizer.decode(output[0],skip_special_token=True)\n",
        "      response = response.replace(prompt,\"\").strip()\n",
        "      return response\n",
        "\n",
        "      def concept_explanation(concept):\n",
        "        prompt = f\"explain the concept of{concept} in detail with example\"\n",
        "        return generate_response(prompt, max_length=800)\n",
        "        def quiz_generator(concept):\n",
        "          prompt = f\"Generate 5 quiz question about {concept} with different quies types (multiple choice, true/false, short answer):,give me the answers at the end:\"\n",
        "          return generate_response(prompt, max_length=1200)\n",
        "          #create gradio\n",
        "          with gr.Block() as app:\n",
        "            gr.Markdown(\"# Educational AI Assistant\")\n",
        "            with gr.Tabs():\n",
        "              with gr.TabItems(\"concept Explanition\"):\n",
        "                concept_input=gr.Textbox(label=\"Enter a concept\",placeholder=\"e.g.,Machine Learning\")\n",
        "                explain_btn = gr.Button(\"Explain\")\n",
        "                explanation_output = gr.Textbox(label=\"Explanation\",lines=10)\n",
        "                explain_btn.click(concept_explanation,inputs = concept_input, outputs=explanation_output)\n",
        "\n",
        "\n",
        "                with gr.Tabitems(\"Quiz generator\"):\n",
        "                quiz_input=gr.Textbox(label=\"Enter a concept\",placeholder=\"e.g.,Machine Learning\")\n",
        "                quiz_btn = gr.Button(\"Generate Quiz\")\n",
        "                quiz_output = gr.Textbox(label=\"Quiz_Questions & Answers\",lines=10)\n",
        "                quiz_btn.click(quiz_generator,inputs = concept_input, outputs=quiz_output)\n",
        "                app.lanch(share=True)"
      ],
      "metadata": {
        "id": "fKLYt7F2ohfZ"
      },
      "execution_count": null,
      "outputs": []
    }
  ],
  "metadata": {
    "colab": {
      "name": "Welcome To Colab",
      "toc_visible": true,
      "provenance": [],
      "include_colab_link": true
    },
    "kernelspec": {
      "display_name": "Python 3",
      "name": "python3"
    }
  },
  "nbformat": 4,
  "nbformat_minor": 0
}